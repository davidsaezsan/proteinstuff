{
 "cells": [
  {
   "cell_type": "code",
   "execution_count": 8,
   "metadata": {},
   "outputs": [],
   "source": [
    "class orcaScanOutput:\n",
    "    def __init__(self,scan_job_out):\n",
    "        \"\"\" Creates an object based on the output of Orca Scan Jobs\n",
    "        and the number of atoms in the system\"\"\"\n",
    "        self.scan_job_out = scan_job_out\n",
    "        #Retrieve number of atoms\n",
    "        with open(self.scan_job_out,'r') as scan_job_lines:\n",
    "            lines = scan_job_lines.readlines()\n",
    "        self.n_atoms = n_atoms #These options should be automatically retrieved\n",
    "        self.n_points = n_points\n",
    "    def scan_get_stationary_coordinates(self):\n",
    "        \"\"\"Find xyz coordinates of the different stationary points and write them to a .xyz file\"\"\"\n",
    "        counter_lines = 0\n",
    "        counter_stationary_points = 1\n",
    "        with open(self.scan_job_out,'r') as scan_job_lines:\n",
    "            lines = scan_job_lines.readlines()\n",
    "        for line in lines:\n",
    "            if (\"GEOMETRY OPTIMIZATION CYCLE   1\" in line and counter_stationary_points == 1):\n",
    "                #Find and write only the starting coordinates, that is why we need counter_stationary_points==1\n",
    "                line_index_1 = counter_lines\n",
    "                coordinates = [x for x in lines[line_index_1+5:line_index_1+5+self.n_atoms]]\n",
    "                with open('orca_job.'+str(counter_stationary_points).zfill(3)+'.xyz','a') as output:\n",
    "                    output.write(str(self.n_atoms)+'\\n')\n",
    "                    output.write('orca_job'+'\\n')\n",
    "                    output.writelines(coordinates)\n",
    "                counter_lines+=1\n",
    "                counter_stationary_points+=1\n",
    "            elif \"FINAL ENERGY EVALUATION AT THE STATIONARY POINT\" in line:\n",
    "                #Find and write subsequent stationary points\n",
    "                line_index_1 = counter_lines\n",
    "                coordinates = [x for x in lines[line_index_1+6:line_index_1+6+self.n_atoms]]\n",
    "                with open('orca_job.'+str(counter_stationary_points).zfill(3)+'.xyz','w') as output:\n",
    "                    output.write(str(self.n_atoms)+'\\n')\n",
    "                    output.write('orca_job'+'\\n')\n",
    "                    output.writelines(coordinates)\n",
    "                counter_lines+=1\n",
    "                counter_stationary_points+=1\n",
    "            else:\n",
    "                counter_lines+=1\n",
    "        return None\n",
    "    \n",
    "    def get_energy_surface(self):\n",
    "        counter_lines=0\n",
    "        with open(self.scan_job_out,'r') as scan_job_lines:\n",
    "            lines = scan_job_lines.readlines()\n",
    "        for line in lines:\n",
    "            if \"The Calculated Surface using the 'Actual Energy'\" in line:\n",
    "                line_index_1 = counter_lines\n",
    "                coordinates = [x for x in lines[line_index_1+1:line_index_1+1+self.n_points]]\n",
    "                with open('act_ene.dat','w') as output:\n",
    "                    output.writelines(coordinates)\n",
    "            if \"The Calculated Surface using the SCF energy\" in line:\n",
    "                line_index_1 = counter_lines\n",
    "                coordinates = [x for x in lines[line_index_1+1:line_index_1+1+self.n_points]]\n",
    "                with open('scf_ene.dat','w') as output:\n",
    "                    output.writelines(coordinates)\n",
    "            counter_lines+=1\n",
    "\n",
    "\n",
    "    \n",
    "        \n",
    "                \n",
    "            \n",
    "                "
   ]
  },
  {
   "cell_type": "code",
   "execution_count": 9,
   "metadata": {},
   "outputs": [
    {
     "ename": "NameError",
     "evalue": "name 'n_atoms' is not defined",
     "output_type": "error",
     "traceback": [
      "\u001b[0;31m---------------------------------------------------------------------------\u001b[0m",
      "\u001b[0;31mNameError\u001b[0m                                 Traceback (most recent call last)",
      "\u001b[0;32m<ipython-input-9-2acdefcef85b>\u001b[0m in \u001b[0;36m<module>\u001b[0;34m\u001b[0m\n\u001b[0;32m----> 1\u001b[0;31m \u001b[0ma\u001b[0m\u001b[0;34m=\u001b[0m\u001b[0morcaScanOutput\u001b[0m\u001b[0;34m(\u001b[0m\u001b[0;34m'scan_example.dat'\u001b[0m\u001b[0;34m)\u001b[0m\u001b[0;34m\u001b[0m\u001b[0;34m\u001b[0m\u001b[0m\n\u001b[0m",
      "\u001b[0;32m<ipython-input-8-4ee55d438f30>\u001b[0m in \u001b[0;36m__init__\u001b[0;34m(self, scan_job_out)\u001b[0m\n\u001b[1;32m      4\u001b[0m         and the number of atoms in the system\"\"\"\n\u001b[1;32m      5\u001b[0m         \u001b[0mself\u001b[0m\u001b[0;34m.\u001b[0m\u001b[0mscan_job_out\u001b[0m \u001b[0;34m=\u001b[0m \u001b[0mscan_job_out\u001b[0m\u001b[0;34m\u001b[0m\u001b[0;34m\u001b[0m\u001b[0m\n\u001b[0;32m----> 6\u001b[0;31m         \u001b[0mself\u001b[0m\u001b[0;34m.\u001b[0m\u001b[0mn_atoms\u001b[0m \u001b[0;34m=\u001b[0m \u001b[0mn_atoms\u001b[0m \u001b[0;31m#These options should be automatically retrieved\u001b[0m\u001b[0;34m\u001b[0m\u001b[0;34m\u001b[0m\u001b[0m\n\u001b[0m\u001b[1;32m      7\u001b[0m         \u001b[0mself\u001b[0m\u001b[0;34m.\u001b[0m\u001b[0mn_points\u001b[0m \u001b[0;34m=\u001b[0m \u001b[0mn_points\u001b[0m\u001b[0;34m\u001b[0m\u001b[0;34m\u001b[0m\u001b[0m\n\u001b[1;32m      8\u001b[0m     \u001b[0;32mdef\u001b[0m \u001b[0mscan_get_stationary_coordinates\u001b[0m\u001b[0;34m(\u001b[0m\u001b[0mself\u001b[0m\u001b[0;34m)\u001b[0m\u001b[0;34m:\u001b[0m\u001b[0;34m\u001b[0m\u001b[0;34m\u001b[0m\u001b[0m\n",
      "\u001b[0;31mNameError\u001b[0m: name 'n_atoms' is not defined"
     ]
    }
   ],
   "source": [
    "a=orcaScanOutput('scan_example.dat')"
   ]
  },
  {
   "cell_type": "code",
   "execution_count": 60,
   "metadata": {},
   "outputs": [],
   "source": [
    "a.get_energy_surface()"
   ]
  },
  {
   "cell_type": "code",
   "execution_count": 61,
   "metadata": {},
   "outputs": [],
   "source": [
    "a.scan_get_stationary_coordinates()"
   ]
  },
  {
   "cell_type": "code",
   "execution_count": null,
   "metadata": {},
   "outputs": [],
   "source": []
  },
  {
   "cell_type": "code",
   "execution_count": null,
   "metadata": {},
   "outputs": [],
   "source": []
  }
 ],
 "metadata": {
  "kernelspec": {
   "display_name": "Python 3",
   "language": "python",
   "name": "python3"
  },
  "language_info": {
   "codemirror_mode": {
    "name": "ipython",
    "version": 3
   },
   "file_extension": ".py",
   "mimetype": "text/x-python",
   "name": "python",
   "nbconvert_exporter": "python",
   "pygments_lexer": "ipython3",
   "version": "3.6.7"
  }
 },
 "nbformat": 4,
 "nbformat_minor": 2
}
