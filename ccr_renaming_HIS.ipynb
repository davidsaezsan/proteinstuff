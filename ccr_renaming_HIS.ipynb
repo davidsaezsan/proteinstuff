{
 "cells": [
  {
   "cell_type": "code",
   "execution_count": 160,
   "metadata": {},
   "outputs": [],
   "source": [
    "from Bio.PDB import Select, PDBIO\n",
    "from Bio.PDB.PDBParser import PDBParser\n",
    "class ChainSelect(Select):\n",
    "    def __init__(self, chain):\n",
    "        self.chain = chain\n",
    "    def accept_chain(self, chain):\n",
    "        if chain.get_id() == self.chain:\n",
    "            return 1\n",
    "        else:          \n",
    "            return 0\n",
    "chains = ['A','B','C','D','E','S']\n",
    "p = PDBParser(PERMISSIVE=1)       \n",
    "structure = p.get_structure(\"ccr\", \"ccr_b7.pdb\")\n",
    "for chain in chains:\n",
    "    pdb_chain_file = 'pdb_file_chain_{}.pdb'.format(chain)                                 \n",
    "    io_w_no_h = PDBIO()               \n",
    "    io_w_no_h.set_structure(structure)\n",
    "    io_w_no_h.save('{}'.format(pdb_chain_file), ChainSelect(chain))"
   ]
  },
  {
   "cell_type": "code",
   "execution_count": 161,
   "metadata": {},
   "outputs": [],
   "source": [
    "class HisRenamer:\n",
    "    def __init__(self, path=None):\n",
    "        \"\"\"Creates an object based on a pdb file located in path. This object can modify HIS names according \n",
    "        to protonation and write a new corrected file.\"\"\"\n",
    "        self.path = path\n",
    "        \n",
    "    def HIS_detector(self):\n",
    "        HDList=[]\n",
    "        HEList=[]\n",
    "        temp1=PDBParser(PERMISSIVE=1)\n",
    "        temp2 = temp1.get_structure(\"temp3\",self.path)\n",
    "        for model in temp2:\n",
    "            for chain in model:\n",
    "                for residue in chain.get_residues():\n",
    "                    if residue.get_resname()==\"HIS\":\n",
    "                        if residue.has_id(\"HD1\"):\n",
    "                            HDList.append(str(residue.get_id()[1]))\n",
    "                        else:\n",
    "                            HEList.append(str(residue.get_id()[1]))\n",
    "                    pass\n",
    "        return (HDList,HEList)\n",
    "                    \n",
    "    def LineContainer(self):\n",
    "        with open(self.path,'r') as temp1:\n",
    "            temp2=temp1.readlines()\n",
    "        return temp2\n",
    "    \n",
    "    def HisChanger(self):\n",
    "        temp1=self.LineContainer()\n",
    "        temp2=self.HIS_detector()\n",
    "        temp3=[]\n",
    "        for line in temp1:\n",
    "            if line.startswith('ATOM'):\n",
    "                if line.split()[5] in temp2[0]:\n",
    "                    newline=line.replace('HIS','HSD')\n",
    "                    temp3.append(newline)\n",
    "                elif line.split()[5] in temp2[1]:\n",
    "                    newline=line.replace('HIS','HSE')\n",
    "                    temp3.append(newline)\n",
    "                else:\n",
    "                    temp3.append(line)\n",
    "            else: \n",
    "                pass\n",
    "        temp3.append(\"END\\n\")\n",
    "        return temp3\n",
    "    \n",
    "    def HisWriter(self, out_path):\n",
    "        temp1=self.HisChanger()\n",
    "        with open(out_path,'w') as temp2:\n",
    "            for line in temp1:\n",
    "                temp2.write(line)\n",
    "        \n",
    "    \n",
    "        \n",
    "    "
   ]
  },
  {
   "cell_type": "code",
   "execution_count": 162,
   "metadata": {},
   "outputs": [],
   "source": [
    "for letra in chains[0:4]:\n",
    "    a=HisRenamer(\"pdb_file_chain_\"+letra+\".pdb\")\n",
    "    a.HisWriter(\"correctedChain\"+letra+\".pdb\")"
   ]
  },
  {
   "cell_type": "code",
   "execution_count": null,
   "metadata": {},
   "outputs": [],
   "source": []
  },
  {
   "cell_type": "code",
   "execution_count": null,
   "metadata": {},
   "outputs": [],
   "source": []
  },
  {
   "cell_type": "code",
   "execution_count": null,
   "metadata": {},
   "outputs": [],
   "source": []
  },
  {
   "cell_type": "code",
   "execution_count": null,
   "metadata": {},
   "outputs": [],
   "source": []
  },
  {
   "cell_type": "code",
   "execution_count": null,
   "metadata": {},
   "outputs": [],
   "source": []
  }
 ],
 "metadata": {
  "kernelspec": {
   "display_name": "Python 3",
   "language": "python",
   "name": "python3"
  },
  "language_info": {
   "codemirror_mode": {
    "name": "ipython",
    "version": 3
   },
   "file_extension": ".py",
   "mimetype": "text/x-python",
   "name": "python",
   "nbconvert_exporter": "python",
   "pygments_lexer": "ipython3",
   "version": "3.6.7"
  }
 },
 "nbformat": 4,
 "nbformat_minor": 2
}
